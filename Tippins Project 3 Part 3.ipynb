{
 "cells": [
  {
   "cell_type": "code",
   "execution_count": 1,
   "id": "810ed436",
   "metadata": {},
   "outputs": [],
   "source": [
    "import pandas as pd\n",
    "import numpy as np\n",
    "import matplotlib.pyplot as plt\n",
    "import seaborn as sns\n",
    "import scipy.stats as stats"
   ]
  },
  {
   "cell_type": "code",
   "execution_count": null,
   "id": "185c11cc",
   "metadata": {},
   "outputs": [],
   "source": []
  },
  {
   "cell_type": "markdown",
   "id": "47197e42",
   "metadata": {},
   "source": [
    "# Normalizing Genres"
   ]
  },
  {
   "cell_type": "code",
   "execution_count": null,
   "id": "72581495",
   "metadata": {},
   "outputs": [],
   "source": [
    "## create a col with a list of genres\n",
    "df['genres_split'] = df['genre'].str.split(',')\n",
    "df"
   ]
  },
  {
   "cell_type": "code",
   "execution_count": null,
   "id": "30dfb1ea",
   "metadata": {},
   "outputs": [],
   "source": [
    "exploded_genres = df.explode('genres_split')\n",
    "exploded_genres"
   ]
  },
  {
   "cell_type": "code",
   "execution_count": null,
   "id": "70a4f917",
   "metadata": {},
   "outputs": [],
   "source": [
    "unique_genres = sorted(exploded_genres['genres_split'].unique())\n"
   ]
  },
  {
   "cell_type": "code",
   "execution_count": null,
   "id": "6b33835c",
   "metadata": {},
   "outputs": [],
   "source": [
    "title_generes = exploded_generes[['tconst', 'generes_split']].copy()\n",
    "title_genres.head()"
   ]
  },
  {
   "cell_type": "code",
   "execution_count": null,
   "id": "ecb95985",
   "metadata": {},
   "outputs": [],
   "source": [
    "## Making the genre mapper dictionary\n",
    "genre_ints = range(len(unique_genres))\n",
    "genre_map = dict(zip(unique_genres, genre_ints))\n",
    "genre_map"
   ]
  },
  {
   "cell_type": "code",
   "execution_count": null,
   "id": "bd272c7c",
   "metadata": {},
   "outputs": [],
   "source": [
    "genre_id_map = dict(zip(unique_genres, range(len(unique_genres))))\n",
    "genre_id_map"
   ]
  },
  {
   "cell_type": "code",
   "execution_count": null,
   "id": "3d99b78d",
   "metadata": {},
   "outputs": [],
   "source": [
    "## make new integer genre_id and drop string genres\n",
    "df['genre_id'] = df['genres_split'].map(genre_map)\n",
    "df = df.drop(columns='genres_split')"
   ]
  },
  {
   "cell_type": "code",
   "execution_count": null,
   "id": "72dbdd8b",
   "metadata": {},
   "outputs": [],
   "source": [
    "genre_lookup = pd.DataFrame({'Genre_Name': genre_id_map.keys(),\n",
    "                            'Genre_ID':genre_id_map.values()})\n",
    "genre_lookup.head()"
   ]
  },
  {
   "cell_type": "markdown",
   "id": "3aa68ba7",
   "metadata": {},
   "source": [
    "# Saving tconst as the primary key"
   ]
  },
  {
   "cell_type": "code",
   "execution_count": null,
   "id": "dc533c4c",
   "metadata": {},
   "outputs": [],
   "source": [
    "## get max string length\n",
    "max_str_len = df['column'].fillna('').map(len).max()"
   ]
  },
  {
   "cell_type": "code",
   "execution_count": null,
   "id": "33bf7e82",
   "metadata": {},
   "outputs": [],
   "source": [
    "## Example\n",
    "from sqlalchemy.types import *\n",
    "## Calculate max string lengths for object columns\n",
    "key_len = basics['tconst'].fillna('').map(len).max()\n",
    "title_len = basics['primaryTitle'].fillna('').map(len).max()\n",
    "## Create a schema dictonary using Sqlalchemy datatype objects\n",
    "df_schema = {\n",
    "    \"tconst\": String(key_len+1), \n",
    "    \"primaryTitle\": Text(title_len+1),\n",
    "    'startYear':Float(),\n",
    "    'endYear':Float(),\n",
    "    'runtimeMinutes':Integer()}"
   ]
  },
  {
   "cell_type": "code",
   "execution_count": null,
   "id": "24e4d746",
   "metadata": {},
   "outputs": [],
   "source": [
    "# Save to sql with dtype and index=False\n",
    "basics.to_sql('title_basics',engine,dtype=df_schema,if_exists='replace',index=False)"
   ]
  },
  {
   "cell_type": "code",
   "execution_count": null,
   "id": "26d91029",
   "metadata": {},
   "outputs": [],
   "source": [
    "engine.execute('ALTER TABLE title_basics ADD PRIMARY KEY (`tconst`);')"
   ]
  },
  {
   "cell_type": "code",
   "execution_count": null,
   "id": "b15952ad",
   "metadata": {},
   "outputs": [],
   "source": []
  },
  {
   "cell_type": "code",
   "execution_count": null,
   "id": "68594936",
   "metadata": {},
   "outputs": [],
   "source": []
  },
  {
   "cell_type": "code",
   "execution_count": null,
   "id": "69e48c8f",
   "metadata": {},
   "outputs": [],
   "source": []
  },
  {
   "cell_type": "code",
   "execution_count": null,
   "id": "99e47719",
   "metadata": {},
   "outputs": [],
   "source": []
  },
  {
   "cell_type": "code",
   "execution_count": null,
   "id": "5d9fbcc0",
   "metadata": {},
   "outputs": [],
   "source": []
  }
 ],
 "metadata": {
  "kernelspec": {
   "display_name": "Python (dojo-env)",
   "language": "python",
   "name": "dojo-env"
  },
  "language_info": {
   "codemirror_mode": {
    "name": "ipython",
    "version": 3
   },
   "file_extension": ".py",
   "mimetype": "text/x-python",
   "name": "python",
   "nbconvert_exporter": "python",
   "pygments_lexer": "ipython3",
   "version": "3.9.15"
  },
  "toc": {
   "base_numbering": 1,
   "nav_menu": {},
   "number_sections": true,
   "sideBar": true,
   "skip_h1_title": false,
   "title_cell": "Table of Contents",
   "title_sidebar": "Contents",
   "toc_cell": false,
   "toc_position": {},
   "toc_section_display": true,
   "toc_window_display": false
  }
 },
 "nbformat": 4,
 "nbformat_minor": 5
}
