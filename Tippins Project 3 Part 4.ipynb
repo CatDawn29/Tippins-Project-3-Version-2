{
 "cells": [
  {
   "cell_type": "markdown",
   "id": "bf1ad343",
   "metadata": {},
   "source": [
    "# Imports and importing the data"
   ]
  },
  {
   "cell_type": "code",
   "execution_count": null,
   "id": "58672a13",
   "metadata": {},
   "outputs": [],
   "source": [
    "import pandas as pd\n",
    "import numpy as np\n",
    "import matplotlib.pyplot as plt\n",
    "import seaborn as sns\n",
    "import scipy.stats as stats\n",
    "from statsmodels.stats.multicomp import pairwise_tukeyhsd"
   ]
  },
  {
   "cell_type": "code",
   "execution_count": null,
   "id": "f1cbc616",
   "metadata": {},
   "outputs": [],
   "source": [
    "url = ''\n",
    "df = pd.read_csv(url)\n",
    "df.head()"
   ]
  },
  {
   "cell_type": "markdown",
   "id": "55e7089e",
   "metadata": {},
   "source": [
    "# Starting the first hypothesis test: ANOVA \n",
    "\n",
    "\n",
    "--- I am choosing this test because we are testing more than two different groups\n",
    "\n",
    "1. Certification vs Revenue \n",
    "\n",
    "\n",
    "Null Hypothesis: There is no difference of revenue\n",
    "Alternate Hypothesis: There is a difference of revenue."
   ]
  },
  {
   "cell_type": "code",
   "execution_count": null,
   "id": "7e3007d5",
   "metadata": {},
   "outputs": [],
   "source": [
    "sns.barplot(data=df, x='certification',y='revenue');"
   ]
  },
  {
   "cell_type": "code",
   "execution_count": null,
   "id": "d8776ac5",
   "metadata": {},
   "outputs": [],
   "source": [
    "groups = {}\n",
    "## Loop through all unique categories\n",
    "for i in df[''].unique():\n",
    "    ## Get series for group and rename\n",
    "    data = df.loc[df['certification']==i,'revenue'].copy()\n",
    "    \n",
    "    # save into the dictionary\n",
    "    groups[i] = data\n",
    "groups.keys()"
   ]
  },
  {
   "cell_type": "code",
   "execution_count": null,
   "id": "113ed273",
   "metadata": {},
   "outputs": [],
   "source": [
    "norm_results = {}\n",
    "for i, data in groups.items():\n",
    "    stat, p = stats.normaltest(data)\n",
    "    ## save the p val, test statistic, and the size of the group\n",
    "    norm_results[i] = {'n': len(data),\n",
    "                             'p':p,\n",
    "                             'test stat':stat,}\n",
    "## convert to a dataframe\n",
    "norm_results_df = pd.DataFrame(norm_results).T\n",
    "norm_results_df"
   ]
  },
  {
   "cell_type": "code",
   "execution_count": null,
   "id": "247c681e",
   "metadata": {},
   "outputs": [],
   "source": [
    "norm_results_df['sig'] = norm_results_df['p'] < .05 \n",
    "norm_results_df"
   ]
  },
  {
   "cell_type": "code",
   "execution_count": null,
   "id": "c1551b51",
   "metadata": {},
   "outputs": [],
   "source": [
    "stats.levene(groups[1],\n",
    "            groups[2],\n",
    "            groups[3])"
   ]
  },
  {
   "cell_type": "code",
   "execution_count": null,
   "id": "5dfbe331",
   "metadata": {},
   "outputs": [],
   "source": [
    "stats.levene(*groups.values())"
   ]
  },
  {
   "cell_type": "code",
   "execution_count": null,
   "id": "738ff9f6",
   "metadata": {},
   "outputs": [],
   "source": [
    "result = stats.f_oneway( *groups.values())\n",
    "result"
   ]
  },
  {
   "cell_type": "code",
   "execution_count": null,
   "id": "75e6b787",
   "metadata": {},
   "outputs": [],
   "source": [
    "values = df['revenue']\n",
    "labels = df['certification']"
   ]
  },
  {
   "cell_type": "code",
   "execution_count": null,
   "id": "590ad656",
   "metadata": {},
   "outputs": [],
   "source": [
    "tukeys_results = pairwise_tukeyhsd(values,labels)\n",
    "tukeys_results.summary()"
   ]
  },
  {
   "cell_type": "markdown",
   "id": "9d197959",
   "metadata": {},
   "source": [
    "# Starting the second hypothesis test: ANOVA \n",
    "\n",
    "\n",
    "--- I am choosing this test because we are testing more than two different groups\n",
    "\n",
    "1. Runtime vs Revenue \n",
    "\n",
    "Null Hypothesis: There is no difference of revenue\n",
    "Alternate Hypothesis: There is a difference of revenue."
   ]
  },
  {
   "cell_type": "code",
   "execution_count": null,
   "id": "a1928d80",
   "metadata": {},
   "outputs": [],
   "source": [
    "sns.barplot(data=df, x='runtime',y='revenue');"
   ]
  },
  {
   "cell_type": "code",
   "execution_count": null,
   "id": "f9323897",
   "metadata": {},
   "outputs": [],
   "source": [
    "groups = {}\n",
    "## Loop through all unique categories\n",
    "for i in df[''].unique():\n",
    "    ## Get series for group and rename\n",
    "    data = df.loc[df['runtime']==i,'revenue'].copy()\n",
    "    \n",
    "    # save into the dictionary\n",
    "    groups[i] = data\n",
    "groups.keys()"
   ]
  },
  {
   "cell_type": "code",
   "execution_count": null,
   "id": "59f2e077",
   "metadata": {},
   "outputs": [],
   "source": [
    "norm_results = {}\n",
    "for i, data in groups.items():\n",
    "    stat, p = stats.normaltest(data)\n",
    "    ## save the p val, test statistic, and the size of the group\n",
    "    norm_results[i] = {'n': len(data),\n",
    "                             'p':p,\n",
    "                             'test stat':stat,}\n",
    "## convert to a dataframe\n",
    "norm_results_df = pd.DataFrame(norm_results).T\n",
    "norm_results_df"
   ]
  },
  {
   "cell_type": "code",
   "execution_count": null,
   "id": "80cd1de8",
   "metadata": {},
   "outputs": [],
   "source": [
    "norm_results_df['sig'] = norm_results_df['p'] < .05 \n",
    "norm_results_df"
   ]
  },
  {
   "cell_type": "code",
   "execution_count": null,
   "id": "1ff97fc8",
   "metadata": {},
   "outputs": [],
   "source": [
    "stats.levene(groups[1],\n",
    "            groups[2],\n",
    "            groups[3])"
   ]
  },
  {
   "cell_type": "code",
   "execution_count": null,
   "id": "acca48c4",
   "metadata": {},
   "outputs": [],
   "source": [
    "stats.levene(*groups.values())"
   ]
  },
  {
   "cell_type": "code",
   "execution_count": null,
   "id": "6e34b259",
   "metadata": {},
   "outputs": [],
   "source": [
    "result = stats.f_oneway( *groups.values())\n",
    "result"
   ]
  },
  {
   "cell_type": "code",
   "execution_count": null,
   "id": "3777b85c",
   "metadata": {},
   "outputs": [],
   "source": [
    "values = df['revenue']\n",
    "labels = df['runtime']"
   ]
  },
  {
   "cell_type": "code",
   "execution_count": null,
   "id": "0b9f5bb3",
   "metadata": {},
   "outputs": [],
   "source": [
    "tukeys_results = pairwise_tukeyhsd(values,labels)\n",
    "tukeys_results.summary()"
   ]
  },
  {
   "cell_type": "markdown",
   "id": "67b25f42",
   "metadata": {},
   "source": [
    "# Starting the third hypothesis test: ANOVA \n",
    "\n",
    "\n",
    "--- I am choosing this test because we are testing more than two different groups\n",
    "\n",
    "1. Runtime vs certification \n",
    "\n",
    "Null Hypothesis: There is no difference of runtime\n",
    "Alternate Hypothesis: There is a difference of runtime."
   ]
  },
  {
   "cell_type": "code",
   "execution_count": null,
   "id": "1d3173da",
   "metadata": {},
   "outputs": [],
   "source": [
    "sns.barplot(data=df, x='runtime',y='certification');"
   ]
  },
  {
   "cell_type": "code",
   "execution_count": null,
   "id": "29965965",
   "metadata": {},
   "outputs": [],
   "source": [
    "groups = {}\n",
    "## Loop through all unique categories\n",
    "for i in df[''].unique():\n",
    "    ## Get series for group and rename\n",
    "    data = df.loc[df['runtime']==i,'certification'].copy()\n",
    "    \n",
    "    # save into the dictionary\n",
    "    groups[i] = data\n",
    "groups.keys()"
   ]
  },
  {
   "cell_type": "code",
   "execution_count": null,
   "id": "926a7e35",
   "metadata": {},
   "outputs": [],
   "source": [
    "norm_results = {}\n",
    "for i, data in groups.items():\n",
    "    stat, p = stats.normaltest(data)\n",
    "    ## save the p val, test statistic, and the size of the group\n",
    "    norm_results[i] = {'n': len(data),\n",
    "                             'p':p,\n",
    "                             'test stat':stat,}\n",
    "## convert to a dataframe\n",
    "norm_results_df = pd.DataFrame(norm_results).T\n",
    "norm_results_df"
   ]
  },
  {
   "cell_type": "code",
   "execution_count": null,
   "id": "a8925160",
   "metadata": {},
   "outputs": [],
   "source": [
    "norm_results_df['sig'] = norm_results_df['p'] < .05 \n",
    "norm_results_df"
   ]
  },
  {
   "cell_type": "code",
   "execution_count": null,
   "id": "9293196b",
   "metadata": {},
   "outputs": [],
   "source": [
    "stats.levene(groups[1],\n",
    "            groups[2],\n",
    "            groups[3])"
   ]
  },
  {
   "cell_type": "code",
   "execution_count": null,
   "id": "37ee346e",
   "metadata": {},
   "outputs": [],
   "source": [
    "stats.levene(*groups.values())"
   ]
  },
  {
   "cell_type": "code",
   "execution_count": null,
   "id": "9d7468cd",
   "metadata": {},
   "outputs": [],
   "source": [
    "result = stats.f_oneway( *groups.values())\n",
    "result"
   ]
  },
  {
   "cell_type": "code",
   "execution_count": null,
   "id": "1527e2f6",
   "metadata": {},
   "outputs": [],
   "source": [
    "values = df['certification']\n",
    "labels = df['runtime']"
   ]
  },
  {
   "cell_type": "code",
   "execution_count": null,
   "id": "104e9a32",
   "metadata": {},
   "outputs": [],
   "source": [
    "tukeys_results = pairwise_tukeyhsd(values,labels)\n",
    "tukeys_results.summary()"
   ]
  }
 ],
 "metadata": {
  "kernelspec": {
   "display_name": "Python (dojo-env)",
   "language": "python",
   "name": "dojo-env"
  },
  "language_info": {
   "codemirror_mode": {
    "name": "ipython",
    "version": 3
   },
   "file_extension": ".py",
   "mimetype": "text/x-python",
   "name": "python",
   "nbconvert_exporter": "python",
   "pygments_lexer": "ipython3",
   "version": "3.9.15"
  },
  "toc": {
   "base_numbering": 1,
   "nav_menu": {},
   "number_sections": true,
   "sideBar": true,
   "skip_h1_title": false,
   "title_cell": "Table of Contents",
   "title_sidebar": "Contents",
   "toc_cell": false,
   "toc_position": {},
   "toc_section_display": true,
   "toc_window_display": false
  }
 },
 "nbformat": 4,
 "nbformat_minor": 5
}
